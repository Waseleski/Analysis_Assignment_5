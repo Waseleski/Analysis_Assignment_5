{
 "cells": [
  {
   "cell_type": "code",
   "execution_count": 170,
   "metadata": {
    "collapsed": true
   },
   "outputs": [],
   "source": [
    "import agate"
   ]
  },
  {
   "cell_type": "code",
   "execution_count": 171,
   "metadata": {
    "collapsed": true
   },
   "outputs": [],
   "source": [
    "tester = agate.TypeTester(limit=500)"
   ]
  },
  {
   "cell_type": "code",
   "execution_count": 172,
   "metadata": {
    "collapsed": false
   },
   "outputs": [],
   "source": [
    "crime = agate.Table.from_csv('oncampuscrime111213.csv', column_types=tester)"
   ]
  },
  {
   "cell_type": "markdown",
   "metadata": {},
   "source": [
    "Creating a table of Missouri Schools "
   ]
  },
  {
   "cell_type": "code",
   "execution_count": 173,
   "metadata": {
    "collapsed": false
   },
   "outputs": [
    {
     "name": "stdout",
     "output_type": "stream",
     "text": [
      "325\n"
     ]
    }
   ],
   "source": [
    "mo_crime = crime.where(lambda r: r['State'] == 'MO')\n",
    "print len(mo_crime.rows)\n"
   ]
  },
  {
   "cell_type": "markdown",
   "metadata": {},
   "source": [
    "Creating two tables to look at public, private MO schools separately"
   ]
  },
  {
   "cell_type": "code",
   "execution_count": 174,
   "metadata": {
    "collapsed": false
   },
   "outputs": [
    {
     "name": "stdout",
     "output_type": "stream",
     "text": [
      "99\n"
     ]
    }
   ],
   "source": [
    "mo_public = mo_crime.where(lambda r: r['Sector_desc'].startswith('Pub'))\n",
    "print len(mo_public.rows) "
   ]
  },
  {
   "cell_type": "code",
   "execution_count": 175,
   "metadata": {
    "collapsed": false,
    "scrolled": true
   },
   "outputs": [
    {
     "name": "stdout",
     "output_type": "stream",
     "text": [
      "226\n"
     ]
    }
   ],
   "source": [
    "mo_private = mo_crime.where(lambda r: r['Sector_desc'].startswith('Pri'))\n",
    "print len(mo_private.rows) "
   ]
  },
  {
   "cell_type": "markdown",
   "metadata": {},
   "source": [
    "Question: How many violent crimes occurred on public and private campuses in 2013?"
   ]
  },
  {
   "cell_type": "code",
   "execution_count": 176,
   "metadata": {
    "collapsed": false,
    "scrolled": false
   },
   "outputs": [
    {
     "name": "stdout",
     "output_type": "stream",
     "text": [
      "276\n"
     ]
    }
   ],
   "source": [
    "v1 = mo_public.aggregate(agate.Sum('MURD13'))\n",
    "v2 = mo_public.aggregate(agate.Sum('NEG_M13'))\n",
    "v3 = mo_public.aggregate(agate.Sum('FORCIB13'))\n",
    "v4 = mo_public.aggregate(agate.Sum('NONFOR13'))\n",
    "v5 = mo_public.aggregate(agate.Sum('ROBBE13'))\n",
    "v6 = mo_public.aggregate(agate.Sum('AGG_A13'))\n",
    "v7 = mo_public.aggregate(agate.Sum('BURGLA13'))\n",
    "v8 = mo_public.aggregate(agate.Sum('ARSON13'))\n",
    "\n",
    "vc_13 = v1 + v2 + v3 + v4 + v5 + v6 + v7 + v8\n",
    "\n",
    "print vc_13"
   ]
  },
  {
   "cell_type": "code",
   "execution_count": 177,
   "metadata": {
    "collapsed": false
   },
   "outputs": [
    {
     "name": "stdout",
     "output_type": "stream",
     "text": [
      "260\n"
     ]
    }
   ],
   "source": [
    "v1 = mo_private.aggregate(agate.Sum('MURD13'))\n",
    "v2 = mo_private.aggregate(agate.Sum('NEG_M13'))\n",
    "v3 = mo_private.aggregate(agate.Sum('FORCIB13'))\n",
    "v4 = mo_private.aggregate(agate.Sum('NONFOR13'))\n",
    "v5 = mo_private.aggregate(agate.Sum('ROBBE13'))\n",
    "v6 = mo_private.aggregate(agate.Sum('AGG_A13'))\n",
    "v7 = mo_private.aggregate(agate.Sum('BURGLA13'))\n",
    "v8 = mo_private.aggregate(agate.Sum('ARSON13'))\n",
    "\n",
    "vc_13 = v1 + v2 + v3 + v4 + v5 + v6 + v7 + v8\n",
    "\n",
    "print vc_13"
   ]
  },
  {
   "cell_type": "markdown",
   "metadata": {},
   "source": [
    "536 violent crimes occurred on campuses, only slightly more on private campuses. What's the population on these campuses?"
   ]
  },
  {
   "cell_type": "code",
   "execution_count": 178,
   "metadata": {
    "collapsed": false
   },
   "outputs": [
    {
     "name": "stdout",
     "output_type": "stream",
     "text": [
      "256491\n"
     ]
    }
   ],
   "source": [
    "public_schools = mo_public.distinct('INSTNM')\n",
    "public_pop = public_schools.aggregate(agate.Sum('Total'))\n",
    "print public_pop"
   ]
  },
  {
   "cell_type": "code",
   "execution_count": 179,
   "metadata": {
    "collapsed": false
   },
   "outputs": [
    {
     "name": "stdout",
     "output_type": "stream",
     "text": [
      "243464\n"
     ]
    }
   ],
   "source": [
    "private_schools = mo_private.distinct('INSTNM')\n",
    "private_pop = private_schools.aggregate(agate.Sum('Total'))\n",
    "print private_pop"
   ]
  },
  {
   "cell_type": "markdown",
   "metadata": {},
   "source": [
    "Well, that didn't tell me much. I expected a larger population on public schools ... "
   ]
  },
  {
   "cell_type": "code",
   "execution_count": 180,
   "metadata": {
    "collapsed": false
   },
   "outputs": [
    {
     "name": "stdout",
     "output_type": "stream",
     "text": [
      "|------------------------------------------------+-------------|\n",
      "|  INSTNM                                        | population  |\n",
      "|------------------------------------------------+-------------|\n",
      "|  Saint Louis Community College                 |    216,045  |\n",
      "|  Metropolitan Community College-Kansas City    |    115,404  |\n",
      "|  Ozarks Technical Community College            |     73,990  |\n",
      "|  Southeast Missouri State University           |     47,068  |\n",
      "|  Moberly Area Community College                |     39,970  |\n",
      "|  University of Missouri-Columbia               |     34,616  |\n",
      "|  University of Missouri-Kansas City            |     31,436  |\n",
      "|  University of Central Missouri                |     25,026  |\n",
      "|  Crowder College                               |     23,380  |\n",
      "|  Missouri State University-Springfield         |     21,271  |\n",
      "|  Jefferson College                             |     20,776  |\n",
      "|  Northwest Missouri State University           |     19,455  |\n",
      "|  University of Missouri-St Louis               |     16,809  |\n",
      "|  East Central College                          |     15,600  |\n",
      "|  Truman State University                       |     12,450  |\n",
      "|  Missouri University of Science and Technology |      8,129  |\n",
      "|  St Charles Community College                  |      7,396  |\n",
      "|  Lincoln University                            |      6,086  |\n",
      "|  Missouri Western State University             |      5,795  |\n",
      "|  Missouri Southern State University            |      5,616  |\n",
      "|  ...                                           |        ...  |\n",
      "|------------------------------------------------+-------------|\n"
     ]
    }
   ],
   "source": [
    "group_pop = mo_public.group_by('INSTNM')\n",
    "\n",
    "sb_pop = group_pop.aggregate([\n",
    "        ('population', agate.Sum('Total'))\n",
    "    ])\n",
    "\n",
    "public_campus_pop = sb_pop.order_by('population', reverse=True)\n",
    "\n",
    "public_campus_pop.print_table(max_rows=20)\n"
   ]
  },
  {
   "cell_type": "markdown",
   "metadata": {
    "collapsed": true
   },
   "source": [
    "Community colleges seem to account for a large percentage of the public school population. I'll remove the community colleges."
   ]
  },
  {
   "cell_type": "code",
   "execution_count": 181,
   "metadata": {
    "collapsed": false,
    "scrolled": true
   },
   "outputs": [
    {
     "name": "stdout",
     "output_type": "stream",
     "text": [
      "Saint Louis Community College\n",
      "Metropolitan Community College-Kansas City\n",
      "Ozarks Technical Community College\n",
      "Southeast Missouri State University\n",
      "Moberly Area Community College\n",
      "University of Missouri-Columbia\n",
      "University of Missouri-Kansas City\n",
      "University of Central Missouri\n",
      "Crowder College\n",
      "Missouri State University-Springfield\n",
      "Jefferson College\n",
      "Northwest Missouri State University\n",
      "University of Missouri-St Louis\n",
      "East Central College\n",
      "Truman State University\n",
      "Missouri University of Science and Technology\n",
      "St Charles Community College\n",
      "Lincoln University\n",
      "Missouri Western State University\n",
      "Missouri Southern State University\n",
      "State Fair Community College\n",
      "Mineral Area College\n",
      "Three Rivers Community College\n",
      "Missouri State University-West Plains\n",
      "Linn State Technical College\n",
      "North Central Missouri College\n",
      "Harris-Stowe State University\n",
      "Applied Technology Services\n",
      "Franklin Technology-MSSU\n",
      "Cape Girardeau Career and Technology Center\n",
      "Rolla Technical Institute\n",
      "Hillyard Technical Center\n",
      "South Central Career Center\n",
      "Grand River Technical School\n",
      "Columbia Area Career Center\n",
      "Sikeston Career and Technology Center\n",
      "Poplar Bluff Technical Career Center\n",
      "Waynesville Career Center\n",
      "Truman Medical Center School of Nurse Anesthesia\n",
      "Four Rivers Career Center\n",
      "Warrensburg Area Career Center\n",
      "Northland Career Center\n",
      "Lex La-Ray Technical Center\n",
      "Cass Career Center\n",
      "Pike-Lincoln Technical Center\n",
      "Kirksville Area Technical Center\n",
      "Clinton Technical School\n",
      "Saline County Career Center\n",
      "Nevada Regional Technical Center\n",
      "Lake Career and Technical Center\n",
      "Carthage R9 School District-Carthage Technical Center\n",
      "Herndon Career Center\n"
     ]
    }
   ],
   "source": [
    "find_community = public_campus_pop.order_by('INSTNM')\n",
    "\n",
    "for row in public_campus_pop.rows:\n",
    "    print(row['INSTNM'])"
   ]
  },
  {
   "cell_type": "markdown",
   "metadata": {},
   "source": [
    "eh, maybe not. Same issue with career, medical and techical centers ..."
   ]
  },
  {
   "cell_type": "markdown",
   "metadata": {},
   "source": [
    "... I tried to create a new column of violent crime totals using Formula http://bit.ly/1QztYpa and Excel formula http://bit.ly/1Qzu0gO, but couldn't figure it out. I decided to compare sex offenses at MU versus comparable MO public schools instead."
   ]
  },
  {
   "cell_type": "code",
   "execution_count": 182,
   "metadata": {
    "collapsed": false
   },
   "outputs": [],
   "source": [
    "mo_compare = mo_public.where(lambda r: r['INSTNM'].startswith('Southeast Missouri') or r['INSTNM'].startswith('University of') or r['INSTNM'].startswith('Missouri State') or r['INSTNM'].startswith('Northwest'))\n"
   ]
  },
  {
   "cell_type": "code",
   "execution_count": 183,
   "metadata": {
    "collapsed": false
   },
   "outputs": [
    {
     "name": "stdout",
     "output_type": "stream",
     "text": [
      "University of Central Missouri\n",
      "University of Central Missouri\n",
      "University of Missouri-Columbia\n",
      "University of Missouri-Kansas City\n",
      "University of Missouri-Kansas City\n",
      "University of Missouri-St Louis\n",
      "Northwest Missouri State University\n",
      "Northwest Missouri State University\n",
      "Northwest Missouri State University\n",
      "Missouri State University-West Plains\n",
      "Missouri State University-West Plains\n",
      "Southeast Missouri State University\n",
      "Southeast Missouri State University\n",
      "Southeast Missouri State University\n",
      "Southeast Missouri State University\n",
      "Missouri State University-Springfield\n"
     ]
    }
   ],
   "source": [
    "for row in mo_compare.rows: \n",
    "    print(row['INSTNM'])"
   ]
  },
  {
   "cell_type": "code",
   "execution_count": 184,
   "metadata": {
    "collapsed": false,
    "scrolled": true
   },
   "outputs": [
    {
     "name": "stdout",
     "output_type": "stream",
     "text": [
      "|----------------------------------------+------------+----------+--------------|\n",
      "|  INSTNM                                | population | forcible | nonforcible  |\n",
      "|----------------------------------------+------------+----------+--------------|\n",
      "|  Southeast Missouri State University   |     47,068 |        7 |           0  |\n",
      "|  University of Missouri-Columbia       |     34,616 |        7 |           0  |\n",
      "|  University of Missouri-Kansas City    |     31,436 |        0 |           0  |\n",
      "|  University of Central Missouri        |     25,026 |        6 |           0  |\n",
      "|  Missouri State University-Springfield |     21,271 |        6 |           0  |\n",
      "|  Northwest Missouri State University   |     19,455 |        4 |           0  |\n",
      "|  University of Missouri-St Louis       |     16,809 |        1 |           0  |\n",
      "|  Missouri State University-West Plains |      4,246 |        0 |           0  |\n",
      "|----------------------------------------+------------+----------+--------------|\n"
     ]
    }
   ],
   "source": [
    "group_pop = mo_compare.group_by('INSTNM')\n",
    "\n",
    "sb_pop = group_pop.aggregate([\n",
    "        ('population', agate.Sum('Total')),\n",
    "        ('forcible', agate.Sum('FORCIB13')),\n",
    "        ('nonforcible', agate.Sum('NONFOR13'))\n",
    "    ])\n",
    "\n",
    "public_campus_pop = sb_pop.order_by('population', reverse=True)\n",
    "\n",
    "public_campus_pop.print_table()\n",
    "\n"
   ]
  },
  {
   "cell_type": "code",
   "execution_count": 185,
   "metadata": {
    "collapsed": false
   },
   "outputs": [
    {
     "name": "stdout",
     "output_type": "stream",
     "text": [
      "|----------------------------------------+------------+----------+--------------|\n",
      "|  INSTNM                                | population | forcible | nonforcible  |\n",
      "|----------------------------------------+------------+----------+--------------|\n",
      "|  Southeast Missouri State University   |     47,068 |        2 |           0  |\n",
      "|  University of Missouri-Columbia       |     34,616 |        6 |           0  |\n",
      "|  University of Missouri-Kansas City    |     31,436 |        1 |           0  |\n",
      "|  University of Central Missouri        |     25,026 |        8 |           0  |\n",
      "|  Missouri State University-Springfield |     21,271 |        3 |           0  |\n",
      "|  Northwest Missouri State University   |     19,455 |        2 |           0  |\n",
      "|  University of Missouri-St Louis       |     16,809 |        2 |           0  |\n",
      "|  Missouri State University-West Plains |      4,246 |        1 |           0  |\n",
      "|----------------------------------------+------------+----------+--------------|\n"
     ]
    }
   ],
   "source": [
    "group_pop = mo_compare.group_by('INSTNM')\n",
    "\n",
    "sb_pop = group_pop.aggregate([\n",
    "        ('population', agate.Sum('Total')),\n",
    "        ('forcible', agate.Sum('FORCIB12')),\n",
    "        ('nonforcible', agate.Sum('NONFOR12'))\n",
    "    ])\n",
    "\n",
    "public_campus_pop = sb_pop.order_by('population', reverse=True)\n",
    "\n",
    "public_campus_pop.print_table()\n"
   ]
  },
  {
   "cell_type": "code",
   "execution_count": 186,
   "metadata": {
    "collapsed": false,
    "scrolled": true
   },
   "outputs": [
    {
     "name": "stdout",
     "output_type": "stream",
     "text": [
      "|----------------------------------------+------------+----------+--------------|\n",
      "|  INSTNM                                | population | forcible | nonforcible  |\n",
      "|----------------------------------------+------------+----------+--------------|\n",
      "|  Southeast Missouri State University   |     47,068 |        5 |           0  |\n",
      "|  University of Missouri-Columbia       |     34,616 |       11 |           0  |\n",
      "|  University of Missouri-Kansas City    |     31,436 |        1 |           0  |\n",
      "|  University of Central Missouri        |     25,026 |        5 |           0  |\n",
      "|  Missouri State University-Springfield |     21,271 |        0 |           0  |\n",
      "|  Northwest Missouri State University   |     19,455 |        2 |           0  |\n",
      "|  University of Missouri-St Louis       |     16,809 |        0 |           0  |\n",
      "|  Missouri State University-West Plains |      4,246 |        0 |           0  |\n",
      "|----------------------------------------+------------+----------+--------------|\n"
     ]
    }
   ],
   "source": [
    "group_pop = mo_compare.group_by('INSTNM')\n",
    "\n",
    "sb_pop = group_pop.aggregate([\n",
    "        ('population', agate.Sum('Total')),\n",
    "        ('forcible', agate.Sum('FORCIB11')),\n",
    "        ('nonforcible', agate.Sum('NONFOR11'))\n",
    "    ])\n",
    "\n",
    "public_campus_pop = sb_pop.order_by('population', reverse=True)\n",
    "\n",
    "public_campus_pop.print_table()\n"
   ]
  },
  {
   "cell_type": "markdown",
   "metadata": {},
   "source": [
    "Story idea: Missouri State University-Springfield had the highest rate of on-campus sex offenses among the state's five largest four-year public universities in 2013. Annual cases at the university are rising as well, up from two forcible sex offenses in 2012 and zero in 2011. That may have something to do with campus population trends, but it's unclear from the data.\n",
    "\n",
    "The university reported six cases of on-campus offenses out of a student body population of 25,026. That's about double the rate of incidents reported at Southeast Missouri State University, which had seven cases among 47,068 students.  \n",
    "\n",
    "On the other hand, the University of Missouri-Kansas City had two on-campus sex offenses in three years, which is interesting considering its in a large city; the University of Missouri-St Louis also reported a low number of on-campus incidents over the three years in comparison.\n",
    "\n",
    "The annual rate reported at each school fluctuates drastically each year due to the mostly single-digit numbers, so it's hard to draw a conclusion about the safety of female students based on one year. There does seem to be a steady climb at Missouri State University-Springfield, however. I'd be curious to know what's causing the increase. Is it simply a population factor or something else?  "
   ]
  }
 ],
 "metadata": {
  "kernelspec": {
   "display_name": "Python 2",
   "language": "python",
   "name": "python2"
  },
  "language_info": {
   "codemirror_mode": {
    "name": "ipython",
    "version": 2
   },
   "file_extension": ".py",
   "mimetype": "text/x-python",
   "name": "python",
   "nbconvert_exporter": "python",
   "pygments_lexer": "ipython2",
   "version": "2.7.10"
  }
 },
 "nbformat": 4,
 "nbformat_minor": 0
}
